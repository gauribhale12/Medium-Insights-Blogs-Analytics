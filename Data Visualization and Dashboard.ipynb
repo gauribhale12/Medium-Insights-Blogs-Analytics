{
 "cells": [
  {
   "cell_type": "markdown",
   "id": "db105c30-b3a4-4443-81e5-7669965d4929",
   "metadata": {},
   "source": [
    "# Project : Medium Data Analytics Leaderboard System\n",
    "\n",
    "### _Notebook: Data Visualization and Dashboard_\n",
    "![green-divider](https://user-images.githubusercontent.com/7065401/52071924-c003ad80-2562-11e9-8297-1c6595f8a7ff.png)"
   ]
  },
  {
   "cell_type": "code",
   "execution_count": 1,
   "id": "58572302-7ef9-406a-9597-dfbf7279c4b7",
   "metadata": {},
   "outputs": [
    {
     "ename": "ModuleNotFoundError",
     "evalue": "No module named 'neo4j'",
     "output_type": "error",
     "traceback": [
      "\u001b[1;31m---------------------------------------------------------------------------\u001b[0m",
      "\u001b[1;31mModuleNotFoundError\u001b[0m                       Traceback (most recent call last)",
      "Input \u001b[1;32mIn [1]\u001b[0m, in \u001b[0;36m<cell line: 4>\u001b[1;34m()\u001b[0m\n\u001b[0;32m      2\u001b[0m \u001b[38;5;28;01mimport\u001b[39;00m \u001b[38;5;21;01mpandas\u001b[39;00m \u001b[38;5;28;01mas\u001b[39;00m \u001b[38;5;21;01mpd\u001b[39;00m\n\u001b[0;32m      3\u001b[0m \u001b[38;5;28;01mimport\u001b[39;00m \u001b[38;5;21;01mjson\u001b[39;00m\n\u001b[1;32m----> 4\u001b[0m \u001b[38;5;28;01mimport\u001b[39;00m \u001b[38;5;21;01mneo4j\u001b[39;00m\n\u001b[0;32m      5\u001b[0m \u001b[38;5;28;01mfrom\u001b[39;00m \u001b[38;5;21;01mpandas\u001b[39;00m \u001b[38;5;28;01mimport\u001b[39;00m DataFrame\n\u001b[0;32m      6\u001b[0m \u001b[38;5;28;01mfrom\u001b[39;00m \u001b[38;5;21;01mpy2neo\u001b[39;00m \u001b[38;5;28;01mimport\u001b[39;00m Graph, Node,Relationship\n",
      "\u001b[1;31mModuleNotFoundError\u001b[0m: No module named 'neo4j'"
     ]
    }
   ],
   "source": [
    "# import the libraries\n",
    "import pandas as pd\n",
    "import json\n",
    "import neo4j\n",
    "from pandas import DataFrame\n",
    "from py2neo import Graph, Node,Relationship\n",
    "\n",
    "from curses import COLOR_BLUE\n",
    "from turtle import color\n",
    "import numpy as np\n",
    "import matplotlib.pyplot as plt\n",
    "import seaborn as sns\n",
    "%matplotlib inline\n",
    "from matplotlib.ticker import FormatStrFormatter"
   ]
  },
  {
   "cell_type": "code",
   "execution_count": 2,
   "id": "0432109b-8314-49f7-9138-ab675c69e713",
   "metadata": {
    "scrolled": true,
    "tags": []
   },
   "outputs": [
    {
     "ename": "FileNotFoundError",
     "evalue": "[Errno 2] No such file or directory: 'Group-08_Neo4j_Credentials.json'",
     "output_type": "error",
     "traceback": [
      "\u001b[1;31m---------------------------------------------------------------------------\u001b[0m",
      "\u001b[1;31mFileNotFoundError\u001b[0m                         Traceback (most recent call last)",
      "Input \u001b[1;32mIn [2]\u001b[0m, in \u001b[0;36m<cell line: 6>\u001b[1;34m()\u001b[0m\n\u001b[0;32m      1\u001b[0m \u001b[38;5;66;03m# Establish connection from Jupyter notebook to Neo4j database\u001b[39;00m\n\u001b[0;32m      2\u001b[0m \u001b[38;5;66;03m# host: bolt://localhost:7687\u001b[39;00m\n\u001b[0;32m      3\u001b[0m \u001b[38;5;66;03m# username: admin\u001b[39;00m\n\u001b[0;32m      4\u001b[0m \u001b[38;5;66;03m# pass: ###\u001b[39;00m\n\u001b[1;32m----> 6\u001b[0m \u001b[38;5;28;01mwith\u001b[39;00m \u001b[38;5;28;43mopen\u001b[39;49m\u001b[43m(\u001b[49m\u001b[38;5;124;43m'\u001b[39;49m\u001b[38;5;124;43mGroup-08_Neo4j_Credentials.json\u001b[39;49m\u001b[38;5;124;43m'\u001b[39;49m\u001b[43m)\u001b[49m \u001b[38;5;28;01mas\u001b[39;00m f:\n\u001b[0;32m      7\u001b[0m     data \u001b[38;5;241m=\u001b[39m json\u001b[38;5;241m.\u001b[39mload(f)\n\u001b[0;32m      8\u001b[0m     username \u001b[38;5;241m=\u001b[39m data[\u001b[38;5;124m'\u001b[39m\u001b[38;5;124musername\u001b[39m\u001b[38;5;124m'\u001b[39m]\n",
      "\u001b[1;31mFileNotFoundError\u001b[0m: [Errno 2] No such file or directory: 'Group-08_Neo4j_Credentials.json'"
     ]
    }
   ],
   "source": [
    "# Establish connection from Jupyter notebook to Neo4j database\n",
    "# host: bolt://localhost:7687\n",
    "# username: admin\n",
    "# pass: ###\n",
    "\n",
    "with open('Group-08_Neo4j_Credentials.json') as f:\n",
    "    data = json.load(f)\n",
    "    username = data['username']\n",
    "    password = data['password']\n",
    "\n",
    "try:\n",
    "    graphDB = Graph(\"bolt://localhost:7687\", auth=(username, password))\n",
    "    print(\"Connection with Neo4j Established\")\n",
    "except Exception as e:\n",
    "    print(\"Failed to connect the driver:\", e)"
   ]
  },
  {
   "cell_type": "code",
   "execution_count": 3,
   "id": "eaadf90b",
   "metadata": {
    "code_folding": [
     3,
     12,
     27,
     36,
     46,
     56,
     66,
     76,
     86,
     95
    ]
   },
   "outputs": [
    {
     "ename": "NameError",
     "evalue": "name 'graphDB' is not defined",
     "output_type": "error",
     "traceback": [
      "\u001b[1;31m---------------------------------------------------------------------------\u001b[0m",
      "\u001b[1;31mNameError\u001b[0m                                 Traceback (most recent call last)",
      "Input \u001b[1;32mIn [3]\u001b[0m, in \u001b[0;36m<cell line: 8>\u001b[1;34m()\u001b[0m\n\u001b[0;32m      1\u001b[0m \u001b[38;5;66;03m# consolidated cypher query..\u001b[39;00m\n\u001b[0;32m      2\u001b[0m \u001b[38;5;66;03m# -----------------------------------------------------------------\u001b[39;00m\n\u001b[0;32m      4\u001b[0m g1_CQL \u001b[38;5;241m=\u001b[39m \u001b[38;5;124m'''\u001b[39m\u001b[38;5;124mMATCH (article:Article)-[:HAS]->(Image) \u001b[39m\n\u001b[0;32m      5\u001b[0m \u001b[38;5;124m            MATCH (article)-[:AWARDED]->(claps:Claps)\u001b[39m\n\u001b[0;32m      6\u001b[0m \u001b[38;5;124m            RETURN Image.Boolean, sum(toInteger(claps.Count))\u001b[39m\n\u001b[0;32m      7\u001b[0m \u001b[38;5;124m        \u001b[39m\u001b[38;5;124m'''\u001b[39m\n\u001b[1;32m----> 8\u001b[0m g1_df \u001b[38;5;241m=\u001b[39m pd\u001b[38;5;241m.\u001b[39mDataFrame(\u001b[43mgraphDB\u001b[49m\u001b[38;5;241m.\u001b[39mrun(g1_CQL))\n\u001b[0;32m      9\u001b[0m g1_df\u001b[38;5;241m.\u001b[39mcolumns \u001b[38;5;241m=\u001b[39m [\u001b[38;5;124m'\u001b[39m\u001b[38;5;124mImage\u001b[39m\u001b[38;5;124m'\u001b[39m, \u001b[38;5;124m'\u001b[39m\u001b[38;5;124mTotal Claps\u001b[39m\u001b[38;5;124m'\u001b[39m]\n\u001b[0;32m     11\u001b[0m \u001b[38;5;66;03m# -----------------------------------------------------------------\u001b[39;00m\n",
      "\u001b[1;31mNameError\u001b[0m: name 'graphDB' is not defined"
     ]
    }
   ],
   "source": [
    "# consolidated cypher query..\n",
    "# -----------------------------------------------------------------\n",
    "\n",
    "g1_CQL = '''MATCH (article:Article)-[:HAS]->(Image) \n",
    "            MATCH (article)-[:AWARDED]->(claps:Claps)\n",
    "            RETURN Image.Boolean, sum(toInteger(claps.Count))\n",
    "        '''\n",
    "g1_df = pd.DataFrame(graphDB.run(g1_CQL))\n",
    "g1_df.columns = ['Image', 'Total Claps']\n",
    "\n",
    "# -----------------------------------------------------------------\n",
    "\n",
    "g2_CQL = '''MATCH (article:Article)-[:CATEGORIZED_AS]->(category:Category)\n",
    "            MATCH (article)-[:TAKES]->(readingTime:ReadingTime)\n",
    "            RETURN category.Type, AVG(toInteger(readingTime.Minutes))\n",
    "            ORDER BY AVG(toInteger(readingTime.Minutes)) DESC LIMIT 5\n",
    "            UNION\n",
    "            MATCH (article:Article)-[:CATEGORIZED_AS]->(category:Category)\n",
    "            MATCH (article)-[:TAKES]->(readingTime:ReadingTime)\n",
    "            RETURN category.Type, AVG(toInteger(readingTime.Minutes))\n",
    "            ORDER BY AVG(toInteger(readingTime.Minutes)) ASC LIMIT 5\n",
    "        '''\n",
    "g2_df = pd.DataFrame(graphDB.run(g2_CQL))\n",
    "g2_df.columns = ['Category', 'Average number of claps']\n",
    "\n",
    "# -----------------------------------------------------------------\n",
    "\n",
    "g3_CQL = '''MATCH (article:Article)-[:PUBLISHED_IN_YEAR]->(year:Year)\n",
    "             MATCH (article)-[:AWARDED]->(claps:Claps)\n",
    "             RETURN  year.Year , AVG(toInteger(claps.Count))\n",
    "        '''\n",
    "g3_df = pd.DataFrame(graphDB.run(g3_CQL))\n",
    "g3_df.columns = ['Year', 'Average number of claps']\n",
    "\n",
    "# -----------------------------------------------------------------\n",
    "\n",
    "g4_CQL = '''MATCH (article:Article)-[:PUBLISHED_BY]->(publication:Publication) \n",
    "             MATCH (article)-[:AWARDED]->(claps:Claps)\n",
    "             RETURN  publication.Name, AVG(toInteger(claps.Count))\n",
    "             order by AVG(toInteger(claps.Count)) DESC LIMIT 10\n",
    "        '''\n",
    "g4_df = pd.DataFrame(graphDB.run(g4_CQL))\n",
    "g4_df.columns = ['Publication Name', 'Average number of claps']\n",
    "\n",
    "# -----------------------------------------------------------------\n",
    "\n",
    "g5_CQL = '''MATCH (author:Author)-[:COMPOSED]->(article:Article)\n",
    "             MATCH (article)-[:AWARDED]->(claps:Claps)\n",
    "             RETURN author.Name, SUM(toInteger(claps.Count))\n",
    "             ORDER BY SUM(toInteger(claps.Count)) DESC LIMIT 10\n",
    "        '''\n",
    "g5_df = pd.DataFrame(graphDB.run(g5_CQL))\n",
    "g5_df.columns = ['Author Name', 'Total number of claps']\n",
    "\n",
    "# -----------------------------------------------------------------\n",
    "\n",
    "g6_CQL = '''MATCH (author:Author)-[:COMPOSED]->(article:Article)\n",
    "             MATCH (article)-[:CATEGORIZED_AS]->(category:Category)\n",
    "             RETURN category.Type, COUNT(author.Name)\n",
    "             ORDER BY COUNT(author.Name) DESC LIMIT 10\n",
    "        '''\n",
    "g6_df = pd.DataFrame(graphDB.run(g6_CQL))\n",
    "g6_df.columns = ['Category Name', 'Total number of authors associated']\n",
    "\n",
    "# -----------------------------------------------------------------\n",
    "\n",
    "g7_CQL = '''MATCH (article:Article)-[:PUBLISHED_BY]->(publication:Publication)\n",
    "            WHERE publication.Name <> 'No Publication'\n",
    "            RETURN publication.Name, COUNT(article.Title)\n",
    "            ORDER BY COUNT(article.Title) DESC LIMIT 10\n",
    "        '''\n",
    "g7_df = pd.DataFrame(graphDB.run(g7_CQL))\n",
    "g7_df.columns = ['Publications', 'Count of articles']\n",
    "\n",
    "# -----------------------------------------------------------------\n",
    "\n",
    "g8_CQL = '''MATCH (article:Article)-[:PUBLISHED_IN_YEAR]->(year:Year)\n",
    "            MATCH (article)-[:PUBLISHED_IN_MONTH]->(month:Month)\n",
    "            MATCH (article)-[:PUBLISHED_ON_DAY]->(day:Day)\n",
    "            RETURN toInteger(year.Year) as Year,toInteger(month.Month) as Month, toInteger(day.Day) as Day\n",
    "        '''\n",
    "g8_df = pd.DataFrame(graphDB.run(g8_CQL))\n",
    "g8_df.columns = ['Year', 'Month', 'Day']\n",
    "\n",
    "# -----------------------------------------------------------------\n",
    "\n",
    "g9_CQL = '''MATCH (article:Article)-[:AWARDED]->(claps:Claps)\n",
    "            MATCH (article)-[:TAKES]->(readingTime:ReadingTime)\n",
    "            RETURN article.Title, toInteger(readingTime.Minutes), toInteger(claps.Count)\n",
    "        '''\n",
    "g9_df = pd.DataFrame(graphDB.run(g9_CQL))\n",
    "g9_df.columns = ['Title', 'reading_time_in_minutes', 'claps_count']\n",
    "\n",
    "# -----------------------------------------------------------------\n",
    "\n",
    "g10_CQL = '''MATCH (article:Article)-[:PUBLISHED_IN_YEAR]->(year:Year)\n",
    "            MATCH (article)-[:PUBLISHED_IN_MONTH]->(month:Month)\n",
    "            MATCH (article)-[:PUBLISHED_ON_DAY]->(day:Day)\n",
    "            RETURN toInteger(year.Year) as Year,toInteger(month.Month) as Month, toInteger(day.Day) as Day\n",
    "        '''\n",
    "g10_df = pd.DataFrame(graphDB.run(g10_CQL))\n",
    "g10_df.columns = ['Year', 'Month', 'Day']\n",
    "\n",
    "g10_df['Date'] = pd.to_datetime(g10_df,format='%Y-%m-%d', errors='coerce')\n",
    "g10_df['month'] = g10_df.Date.dt.month_name()\n",
    "g10_df['quarter'] = g10_df.Date.dt.quarter\n",
    "g10_df.quarter = g10_df.quarter.astype(str)\n",
    "g10_df['quarter'] = 'Q' + g10_df.quarter.astype(str)\n",
    "g10_df['quarter'] = g10_df['quarter'].replace('Q1.0','Q1')\n",
    "g10_df['quarter'] = g10_df['quarter'].replace('Q2.0','Q2')\n",
    "g10_df['quarter'] = g10_df['quarter'].replace('Q3.0','Q3')\n",
    "g10_df['quarter'] = g10_df['quarter'].replace('Q4.0','Q4')\n",
    "g10_df = g10_df[['Year','quarter']]\n",
    "\n",
    "# get count based on Year and quarter groups\n",
    "g10_df_new = g10_df.groupby(['Year','quarter']).agg(count=(\"quarter\", 'count'))\n",
    "g10_df_new = g10_df_new.reset_index()\n",
    "g10_df_new = g10_df_new[g10_df_new['quarter'] != 'Qnan']"
   ]
  },
  {
   "cell_type": "code",
   "execution_count": 4,
   "id": "bcc25c28-21ec-46f6-a8d9-93dc6e3d413d",
   "metadata": {
    "code_folding": [
     1
    ],
    "scrolled": false
   },
   "outputs": [
    {
     "ename": "NameError",
     "evalue": "name 'g1_df' is not defined",
     "output_type": "error",
     "traceback": [
      "\u001b[1;31m---------------------------------------------------------------------------\u001b[0m",
      "\u001b[1;31mNameError\u001b[0m                                 Traceback (most recent call last)",
      "Input \u001b[1;32mIn [4]\u001b[0m, in \u001b[0;36m<cell line: 9>\u001b[1;34m()\u001b[0m\n\u001b[0;32m      6\u001b[0m     plt\u001b[38;5;241m.\u001b[39mticklabel_format(style\u001b[38;5;241m=\u001b[39m\u001b[38;5;124m'\u001b[39m\u001b[38;5;124mplain\u001b[39m\u001b[38;5;124m'\u001b[39m, axis\u001b[38;5;241m=\u001b[39m\u001b[38;5;124m'\u001b[39m\u001b[38;5;124my\u001b[39m\u001b[38;5;124m'\u001b[39m)\n\u001b[0;32m      7\u001b[0m     plt\u001b[38;5;241m.\u001b[39mshow()\n\u001b[1;32m----> 9\u001b[0m graph1(\u001b[43mg1_df\u001b[49m)\n",
      "\u001b[1;31mNameError\u001b[0m: name 'g1_df' is not defined"
     ]
    }
   ],
   "source": [
    "# graph 1\n",
    "def graph1(g1_df):\n",
    "    plt.figure(figsize=(10,7))\n",
    "    g = sns.barplot(x='Image', y='Total Claps', data=g1_df, palette=\"rocket\")\n",
    "    g.set(xlabel='Image Added to Article', ylabel='Total Number of Claps', title='Total Claps vs Image')\n",
    "    plt.ticklabel_format(style='plain', axis='y')\n",
    "    plt.show()\n",
    "\n",
    "graph1(g1_df)"
   ]
  },
  {
   "cell_type": "markdown",
   "id": "4da09e12",
   "metadata": {},
   "source": [
    "- <font color='Maroon'> Images make the articles engaging and attractive and hence they are necessary part of the blog,\n",
    "well atleast the cover image because it can decide wether user will click the link and look at the blog or not. \n",
    "And due to this using the right image extension is also necessary because it will affect the performance of the blog. Because if the webpage takes a long time to load because of it's resources i.e image in this case, people are just going to move on.\n",
    "</font>"
   ]
  },
  {
   "cell_type": "code",
   "execution_count": 5,
   "id": "52d4c5d7",
   "metadata": {
    "code_folding": [
     1
    ]
   },
   "outputs": [
    {
     "ename": "NameError",
     "evalue": "name 'g2_df' is not defined",
     "output_type": "error",
     "traceback": [
      "\u001b[1;31m---------------------------------------------------------------------------\u001b[0m",
      "\u001b[1;31mNameError\u001b[0m                                 Traceback (most recent call last)",
      "Input \u001b[1;32mIn [5]\u001b[0m, in \u001b[0;36m<cell line: 9>\u001b[1;34m()\u001b[0m\n\u001b[0;32m      6\u001b[0m     plt\u001b[38;5;241m.\u001b[39mticklabel_format(style\u001b[38;5;241m=\u001b[39m\u001b[38;5;124m'\u001b[39m\u001b[38;5;124mplain\u001b[39m\u001b[38;5;124m'\u001b[39m, axis\u001b[38;5;241m=\u001b[39m\u001b[38;5;124m'\u001b[39m\u001b[38;5;124my\u001b[39m\u001b[38;5;124m'\u001b[39m)\n\u001b[0;32m      7\u001b[0m     plt\u001b[38;5;241m.\u001b[39mxticks(rotation\u001b[38;5;241m=\u001b[39m\u001b[38;5;241m45\u001b[39m)\n\u001b[1;32m----> 9\u001b[0m graph2(\u001b[43mg2_df\u001b[49m)\n",
      "\u001b[1;31mNameError\u001b[0m: name 'g2_df' is not defined"
     ]
    }
   ],
   "source": [
    "#graph 2:\n",
    "def graph2(g2_df):\n",
    "    plt.figure(figsize=(14,7))\n",
    "    g = sns.barplot(x='Category', y='Average number of claps', data=g2_df, palette=\"rocket\")\n",
    "    g.set(xlabel='Category of Article', ylabel='Average number of claps', title='Average number of claps per category')\n",
    "    plt.ticklabel_format(style='plain', axis='y')\n",
    "    plt.xticks(rotation=45)\n",
    "\n",
    "graph2(g2_df)"
   ]
  },
  {
   "cell_type": "code",
   "execution_count": 6,
   "id": "2977fd85",
   "metadata": {
    "code_folding": [],
    "scrolled": false
   },
   "outputs": [
    {
     "ename": "NameError",
     "evalue": "name 'g3_df' is not defined",
     "output_type": "error",
     "traceback": [
      "\u001b[1;31m---------------------------------------------------------------------------\u001b[0m",
      "\u001b[1;31mNameError\u001b[0m                                 Traceback (most recent call last)",
      "Input \u001b[1;32mIn [6]\u001b[0m, in \u001b[0;36m<cell line: 8>\u001b[1;34m()\u001b[0m\n\u001b[0;32m      5\u001b[0m     g\u001b[38;5;241m.\u001b[39mset(xlabel\u001b[38;5;241m=\u001b[39m\u001b[38;5;124m'\u001b[39m\u001b[38;5;124mYear\u001b[39m\u001b[38;5;124m'\u001b[39m, ylabel\u001b[38;5;241m=\u001b[39m\u001b[38;5;124m'\u001b[39m\u001b[38;5;124mAverage number of claps\u001b[39m\u001b[38;5;124m'\u001b[39m, title\u001b[38;5;241m=\u001b[39m\u001b[38;5;124m'\u001b[39m\u001b[38;5;124mAverage number of claps per Year\u001b[39m\u001b[38;5;124m'\u001b[39m)\n\u001b[0;32m      6\u001b[0m     plt\u001b[38;5;241m.\u001b[39mticklabel_format(style\u001b[38;5;241m=\u001b[39m\u001b[38;5;124m'\u001b[39m\u001b[38;5;124mplain\u001b[39m\u001b[38;5;124m'\u001b[39m, axis\u001b[38;5;241m=\u001b[39m\u001b[38;5;124m'\u001b[39m\u001b[38;5;124my\u001b[39m\u001b[38;5;124m'\u001b[39m)\n\u001b[1;32m----> 8\u001b[0m graph3(\u001b[43mg3_df\u001b[49m)\n",
      "\u001b[1;31mNameError\u001b[0m: name 'g3_df' is not defined"
     ]
    }
   ],
   "source": [
    "# graph 3\n",
    "def graph3(g3_df):\n",
    "    plt.figure(figsize=(11,7))\n",
    "    g = sns.barplot(x='Year', y='Average number of claps', data=g3_df, palette=\"rocket\")\n",
    "    g.set(xlabel='Year', ylabel='Average number of claps', title='Average number of claps per Year')\n",
    "    plt.ticklabel_format(style='plain', axis='y')\n",
    "\n",
    "graph3(g3_df)"
   ]
  },
  {
   "cell_type": "code",
   "execution_count": 7,
   "id": "b75d0c7f",
   "metadata": {
    "code_folding": [
     1
    ],
    "scrolled": false
   },
   "outputs": [
    {
     "ename": "NameError",
     "evalue": "name 'g4_df' is not defined",
     "output_type": "error",
     "traceback": [
      "\u001b[1;31m---------------------------------------------------------------------------\u001b[0m",
      "\u001b[1;31mNameError\u001b[0m                                 Traceback (most recent call last)",
      "Input \u001b[1;32mIn [7]\u001b[0m, in \u001b[0;36m<cell line: 9>\u001b[1;34m()\u001b[0m\n\u001b[0;32m      6\u001b[0m     plt\u001b[38;5;241m.\u001b[39mticklabel_format(style\u001b[38;5;241m=\u001b[39m\u001b[38;5;124m'\u001b[39m\u001b[38;5;124mplain\u001b[39m\u001b[38;5;124m'\u001b[39m, axis\u001b[38;5;241m=\u001b[39m\u001b[38;5;124m'\u001b[39m\u001b[38;5;124my\u001b[39m\u001b[38;5;124m'\u001b[39m)\n\u001b[0;32m      7\u001b[0m     plt\u001b[38;5;241m.\u001b[39mxticks(rotation\u001b[38;5;241m=\u001b[39m\u001b[38;5;241m45\u001b[39m)\n\u001b[1;32m----> 9\u001b[0m graph4(\u001b[43mg4_df\u001b[49m)\n",
      "\u001b[1;31mNameError\u001b[0m: name 'g4_df' is not defined"
     ]
    }
   ],
   "source": [
    "# graph 4\n",
    "def graph4(g4_df):\n",
    "    plt.figure(figsize=(14,7))\n",
    "    g = sns.barplot(x='Publication Name', y='Average number of claps', data=g4_df, palette=\"rocket\")\n",
    "    g.set(xlabel='Publication Name', ylabel='Average number of claps', title='Average number of claps per Publication')\n",
    "    plt.ticklabel_format(style='plain', axis='y')\n",
    "    plt.xticks(rotation=45)\n",
    "\n",
    "graph4(g4_df)"
   ]
  },
  {
   "cell_type": "code",
   "execution_count": 8,
   "id": "a02e1b69",
   "metadata": {
    "code_folding": [
     1
    ]
   },
   "outputs": [
    {
     "ename": "NameError",
     "evalue": "name 'g5_df' is not defined",
     "output_type": "error",
     "traceback": [
      "\u001b[1;31m---------------------------------------------------------------------------\u001b[0m",
      "\u001b[1;31mNameError\u001b[0m                                 Traceback (most recent call last)",
      "Input \u001b[1;32mIn [8]\u001b[0m, in \u001b[0;36m<cell line: 9>\u001b[1;34m()\u001b[0m\n\u001b[0;32m      6\u001b[0m     plt\u001b[38;5;241m.\u001b[39mticklabel_format(style\u001b[38;5;241m=\u001b[39m\u001b[38;5;124m'\u001b[39m\u001b[38;5;124mplain\u001b[39m\u001b[38;5;124m'\u001b[39m, axis\u001b[38;5;241m=\u001b[39m\u001b[38;5;124m'\u001b[39m\u001b[38;5;124my\u001b[39m\u001b[38;5;124m'\u001b[39m)\n\u001b[0;32m      7\u001b[0m     plt\u001b[38;5;241m.\u001b[39mxticks(rotation\u001b[38;5;241m=\u001b[39m\u001b[38;5;241m45\u001b[39m)\n\u001b[1;32m----> 9\u001b[0m graph5(\u001b[43mg5_df\u001b[49m)\n",
      "\u001b[1;31mNameError\u001b[0m: name 'g5_df' is not defined"
     ]
    }
   ],
   "source": [
    "# graph 5\n",
    "def graph5(g5_df):\n",
    "    plt.figure(figsize=(14,7))\n",
    "    g = sns.barplot(x='Author Name', y='Total number of claps', data=g5_df, palette=\"rocket\")\n",
    "    g.set(xlabel='Author Name', ylabel='Total number of claps', title='Total number of claps vs Author')\n",
    "    plt.ticklabel_format(style='plain', axis='y')\n",
    "    plt.xticks(rotation=45)\n",
    "\n",
    "graph5(g5_df)"
   ]
  },
  {
   "cell_type": "code",
   "execution_count": 9,
   "id": "8183d41a",
   "metadata": {
    "code_folding": [
     3
    ]
   },
   "outputs": [
    {
     "ename": "NameError",
     "evalue": "name 'g6_df' is not defined",
     "output_type": "error",
     "traceback": [
      "\u001b[1;31m---------------------------------------------------------------------------\u001b[0m",
      "\u001b[1;31mNameError\u001b[0m                                 Traceback (most recent call last)",
      "Input \u001b[1;32mIn [9]\u001b[0m, in \u001b[0;36m<cell line: 9>\u001b[1;34m()\u001b[0m\n\u001b[0;32m      4\u001b[0m     g6_df\u001b[38;5;241m.\u001b[39mplot\u001b[38;5;241m.\u001b[39mbar(x\u001b[38;5;241m=\u001b[39m\u001b[38;5;124m'\u001b[39m\u001b[38;5;124mCategory Name\u001b[39m\u001b[38;5;124m'\u001b[39m, y\u001b[38;5;241m=\u001b[39m\u001b[38;5;124m'\u001b[39m\u001b[38;5;124mTotal number of authors associated\u001b[39m\u001b[38;5;124m'\u001b[39m, \n\u001b[0;32m      5\u001b[0m                     title\u001b[38;5;241m=\u001b[39m\u001b[38;5;124m'\u001b[39m\u001b[38;5;124mTotal number of authors associated vs Category\u001b[39m\u001b[38;5;124m'\u001b[39m,\n\u001b[0;32m      6\u001b[0m                     color\u001b[38;5;241m=\u001b[39m\u001b[38;5;124m'\u001b[39m\u001b[38;5;124m#009999\u001b[39m\u001b[38;5;124m'\u001b[39m)\n\u001b[0;32m      7\u001b[0m     plt\u001b[38;5;241m.\u001b[39mxticks(rotation\u001b[38;5;241m=\u001b[39m\u001b[38;5;241m45\u001b[39m)\n\u001b[1;32m----> 9\u001b[0m graph6(\u001b[43mg6_df\u001b[49m)\n",
      "\u001b[1;31mNameError\u001b[0m: name 'g6_df' is not defined"
     ]
    }
   ],
   "source": [
    "# graph 6\n",
    "def graph6(g6_df):\n",
    "    plt.rcParams[\"figure.figsize\"] = (12,6)\n",
    "    g6_df.plot.bar(x='Category Name', y='Total number of authors associated', \n",
    "                    title='Total number of authors associated vs Category',\n",
    "                    color='#009999')\n",
    "    plt.xticks(rotation=45)\n",
    "\n",
    "graph6(g6_df)"
   ]
  },
  {
   "cell_type": "code",
   "execution_count": 10,
   "id": "f65b43d3",
   "metadata": {},
   "outputs": [
    {
     "ename": "NameError",
     "evalue": "name 'plt' is not defined",
     "output_type": "error",
     "traceback": [
      "\u001b[1;31m---------------------------------------------------------------------------\u001b[0m",
      "\u001b[1;31mNameError\u001b[0m                                 Traceback (most recent call last)",
      "Input \u001b[1;32mIn [10]\u001b[0m, in \u001b[0;36m<cell line: 2>\u001b[1;34m()\u001b[0m\n\u001b[0;32m      1\u001b[0m \u001b[38;5;66;03m# graph 7\u001b[39;00m\n\u001b[1;32m----> 2\u001b[0m \u001b[43mplt\u001b[49m\u001b[38;5;241m.\u001b[39mfigure(figsize\u001b[38;5;241m=\u001b[39m(\u001b[38;5;241m8\u001b[39m, \u001b[38;5;241m8\u001b[39m))\n\u001b[0;32m      3\u001b[0m colors\u001b[38;5;241m=\u001b[39m [\u001b[38;5;124m'\u001b[39m\u001b[38;5;124m#FF0000\u001b[39m\u001b[38;5;124m'\u001b[39m,\u001b[38;5;124m'\u001b[39m\u001b[38;5;124m#0000FF\u001b[39m\u001b[38;5;124m'\u001b[39m,\u001b[38;5;124m'\u001b[39m\u001b[38;5;124m#FFFF00\u001b[39m\u001b[38;5;124m'\u001b[39m,\u001b[38;5;124m'\u001b[39m\u001b[38;5;124m#ADFF2F\u001b[39m\u001b[38;5;124m'\u001b[39m,\u001b[38;5;124m'\u001b[39m\u001b[38;5;124m#FFA500\u001b[39m\u001b[38;5;124m'\u001b[39m,\u001b[38;5;124m'\u001b[39m\u001b[38;5;124m#FFEFD5\u001b[39m\u001b[38;5;124m'\u001b[39m,\u001b[38;5;124m'\u001b[39m\u001b[38;5;124m#556B2F\u001b[39m\u001b[38;5;124m'\u001b[39m,\u001b[38;5;124m'\u001b[39m\u001b[38;5;124m#990066\u001b[39m\u001b[38;5;124m'\u001b[39m,\u001b[38;5;124m'\u001b[39m\u001b[38;5;124m#660099\u001b[39m\u001b[38;5;124m'\u001b[39m,\u001b[38;5;124m'\u001b[39m\u001b[38;5;124m#6699CC\u001b[39m\u001b[38;5;124m'\u001b[39m]\n\u001b[0;32m      4\u001b[0m explode\u001b[38;5;241m=\u001b[39m (\u001b[38;5;241m0.05\u001b[39m,\u001b[38;5;241m0.05\u001b[39m,\u001b[38;5;241m0.05\u001b[39m,\u001b[38;5;241m0.05\u001b[39m,\u001b[38;5;241m0.05\u001b[39m,\u001b[38;5;241m0.05\u001b[39m,\u001b[38;5;241m0.05\u001b[39m,\u001b[38;5;241m0.05\u001b[39m,\u001b[38;5;241m0.05\u001b[39m,\u001b[38;5;241m0.05\u001b[39m)\n",
      "\u001b[1;31mNameError\u001b[0m: name 'plt' is not defined"
     ]
    }
   ],
   "source": [
    "# graph 7\n",
    "plt.figure(figsize=(8, 8))\n",
    "colors= ['#FF0000','#0000FF','#FFFF00','#ADFF2F','#FFA500','#FFEFD5','#556B2F','#990066','#660099','#6699CC']\n",
    "explode= (0.05,0.05,0.05,0.05,0.05,0.05,0.05,0.05,0.05,0.05)\n",
    "plt.pie(g7_df['Count of articles'], colors=colors, labels=g7_df['Publications'], autopct='%1.1f%%', pctdistance=0.85, explode=explode)\n",
    "centre_circle= plt.Circle((0,0),0.40, fc='white')\n",
    "fig= plt.gcf()\n",
    "fig.gca().add_artist(centre_circle)\n",
    "plt.title('Total number of articles by publication')\n",
    "plt.show()"
   ]
  },
  {
   "cell_type": "code",
   "execution_count": 11,
   "id": "38bae0d6",
   "metadata": {
    "scrolled": false
   },
   "outputs": [
    {
     "ename": "NameError",
     "evalue": "name 'g8_df' is not defined",
     "output_type": "error",
     "traceback": [
      "\u001b[1;31m---------------------------------------------------------------------------\u001b[0m",
      "\u001b[1;31mNameError\u001b[0m                                 Traceback (most recent call last)",
      "Input \u001b[1;32mIn [11]\u001b[0m, in \u001b[0;36m<cell line: 2>\u001b[1;34m()\u001b[0m\n\u001b[0;32m      1\u001b[0m \u001b[38;5;66;03m# graph 8\u001b[39;00m\n\u001b[1;32m----> 2\u001b[0m g8_df[\u001b[38;5;124m'\u001b[39m\u001b[38;5;124mDate\u001b[39m\u001b[38;5;124m'\u001b[39m] \u001b[38;5;241m=\u001b[39m pd\u001b[38;5;241m.\u001b[39mto_datetime(\u001b[43mg8_df\u001b[49m,\u001b[38;5;28mformat\u001b[39m\u001b[38;5;241m=\u001b[39m\u001b[38;5;124m'\u001b[39m\u001b[38;5;124m%\u001b[39m\u001b[38;5;124mY-\u001b[39m\u001b[38;5;124m%\u001b[39m\u001b[38;5;124mm-\u001b[39m\u001b[38;5;132;01m%d\u001b[39;00m\u001b[38;5;124m'\u001b[39m, errors\u001b[38;5;241m=\u001b[39m\u001b[38;5;124m'\u001b[39m\u001b[38;5;124mcoerce\u001b[39m\u001b[38;5;124m'\u001b[39m)\n\u001b[0;32m      3\u001b[0m articles_df \u001b[38;5;241m=\u001b[39m g8_df\u001b[38;5;241m.\u001b[39mDate\u001b[38;5;241m.\u001b[39mvalue_counts()\u001b[38;5;241m.\u001b[39mrename_axis(\u001b[38;5;124m'\u001b[39m\u001b[38;5;124mdates\u001b[39m\u001b[38;5;124m'\u001b[39m)\u001b[38;5;241m.\u001b[39mreset_index(name\u001b[38;5;241m=\u001b[39m\u001b[38;5;124m'\u001b[39m\u001b[38;5;124mcounts\u001b[39m\u001b[38;5;124m'\u001b[39m)\n\u001b[0;32m      4\u001b[0m articles_df[\u001b[38;5;124m'\u001b[39m\u001b[38;5;124mmonth\u001b[39m\u001b[38;5;124m'\u001b[39m] \u001b[38;5;241m=\u001b[39m articles_df\u001b[38;5;241m.\u001b[39mdates\u001b[38;5;241m.\u001b[39mdt\u001b[38;5;241m.\u001b[39mmonth_name()\n",
      "\u001b[1;31mNameError\u001b[0m: name 'g8_df' is not defined"
     ]
    }
   ],
   "source": [
    "# graph 8\n",
    "g8_df['Date'] = pd.to_datetime(g8_df,format='%Y-%m-%d', errors='coerce')\n",
    "articles_df = g8_df.Date.value_counts().rename_axis('dates').reset_index(name='counts')\n",
    "articles_df['month'] = articles_df.dates.dt.month_name()\n",
    "articles_df['day_of_week'] = articles_df.dates.dt.day_name()\n",
    "rest_data = articles_df.pivot_table(index='month', columns='day_of_week', values='counts',  aggfunc='sum', fill_value=0)\n",
    "rest_data = rest_data[['Monday','Tuesday','Wednesday','Thursday','Friday','Saturday','Sunday']]\n",
    "plt.figure(figsize=(12,6))\n",
    "plt.title(\"When were the blogs posted?\")\n",
    "sns.heatmap(rest_data, cmap=\"Greens\", linewidths=.5)\n",
    "plt.show()"
   ]
  },
  {
   "cell_type": "markdown",
   "id": "35bc98f3",
   "metadata": {},
   "source": [
    "Now that we understood what is the best day to post an article, let's try to get understand how long should the article be.\n",
    "\n",
    "We are going to plot the graph with number of claps vs reading time of the article. Assumtion is that a *person will give a clap to article only when he reads it completly and finds it useful/entertaining*."
   ]
  },
  {
   "cell_type": "code",
   "execution_count": 12,
   "id": "04f1914c",
   "metadata": {
    "code_folding": [
     1
    ],
    "scrolled": false
   },
   "outputs": [
    {
     "ename": "NameError",
     "evalue": "name 'g9_df' is not defined",
     "output_type": "error",
     "traceback": [
      "\u001b[1;31m---------------------------------------------------------------------------\u001b[0m",
      "\u001b[1;31mNameError\u001b[0m                                 Traceback (most recent call last)",
      "Input \u001b[1;32mIn [12]\u001b[0m, in \u001b[0;36m<cell line: 10>\u001b[1;34m()\u001b[0m\n\u001b[0;32m      7\u001b[0m     plt\u001b[38;5;241m.\u001b[39mtitle(\u001b[38;5;124m\"\u001b[39m\u001b[38;5;124mNumber of Claps vs Reading time of the article\u001b[39m\u001b[38;5;124m\"\u001b[39m)\n\u001b[0;32m      8\u001b[0m     sns\u001b[38;5;241m.\u001b[39mscatterplot(x\u001b[38;5;241m=\u001b[39mg9_df\u001b[38;5;241m.\u001b[39mreading_time_in_minutes,y\u001b[38;5;241m=\u001b[39mg9_df\u001b[38;5;241m.\u001b[39mclaps_count)\n\u001b[1;32m---> 10\u001b[0m graph9(\u001b[43mg9_df\u001b[49m)\n",
      "\u001b[1;31mNameError\u001b[0m: name 'g9_df' is not defined"
     ]
    }
   ],
   "source": [
    "# graph 9\n",
    "def graph9(g9_df):\n",
    "    plt.figure(figsize=(13,7))\n",
    "    plt.xlabel(\"Reading time in Minutes\")\n",
    "    plt.ylabel(\"Number of Claps\")\n",
    "    plt.tight_layout()\n",
    "    plt.title(\"Number of Claps vs Reading time of the article\")\n",
    "    sns.scatterplot(x=g9_df.reading_time_in_minutes,y=g9_df.claps_count)\n",
    "\n",
    "graph9(g9_df)"
   ]
  },
  {
   "cell_type": "markdown",
   "id": "66fbd2a5",
   "metadata": {},
   "source": [
    "- <font color='Maroon'> Yay, we got our graph!! From the above scatterplots we can say that the articles with reading time of 5 to 10 minutes have huge number of claps. So we can say that ideal reading time for an article should be 5 - 10 minutes\n",
    "    Along with the claps the comments/responses are also the important factors in the article writing because they help us to understand quality of blog i.e is it well-written / it's plagarised / it is helpful / conversation starter, etc.\n",
    "    We can also do further sentimental analysis on it to understand if it's good or bad....\n",
    "</font>"
   ]
  },
  {
   "cell_type": "code",
   "execution_count": 13,
   "id": "d72ee783",
   "metadata": {
    "code_folding": [
     1
    ]
   },
   "outputs": [
    {
     "ename": "NameError",
     "evalue": "name 'g10_df' is not defined",
     "output_type": "error",
     "traceback": [
      "\u001b[1;31m---------------------------------------------------------------------------\u001b[0m",
      "\u001b[1;31mNameError\u001b[0m                                 Traceback (most recent call last)",
      "Input \u001b[1;32mIn [13]\u001b[0m, in \u001b[0;36m<cell line: 8>\u001b[1;34m()\u001b[0m\n\u001b[0;32m      5\u001b[0m     p \u001b[38;5;241m=\u001b[39m sns\u001b[38;5;241m.\u001b[39mbarplot(x\u001b[38;5;241m=\u001b[39m\u001b[38;5;124m\"\u001b[39m\u001b[38;5;124mquarter\u001b[39m\u001b[38;5;124m\"\u001b[39m,y\u001b[38;5;241m=\u001b[39m\u001b[38;5;124m\"\u001b[39m\u001b[38;5;124mcount\u001b[39m\u001b[38;5;124m\"\u001b[39m,hue\u001b[38;5;241m=\u001b[39m\u001b[38;5;124m\"\u001b[39m\u001b[38;5;124mYear\u001b[39m\u001b[38;5;124m\"\u001b[39m,data\u001b[38;5;241m=\u001b[39mg10_df_new)\n\u001b[0;32m      6\u001b[0m     p\u001b[38;5;241m.\u001b[39mset(xlabel \u001b[38;5;241m=\u001b[39m \u001b[38;5;124m'\u001b[39m\u001b[38;5;124mQuarter\u001b[39m\u001b[38;5;124m'\u001b[39m, ylabel \u001b[38;5;241m=\u001b[39m \u001b[38;5;124m'\u001b[39m\u001b[38;5;124mCount of articles published\u001b[39m\u001b[38;5;124m'\u001b[39m, title\u001b[38;5;241m=\u001b[39m\u001b[38;5;124m'\u001b[39m\u001b[38;5;124mQOQ Analysis of Published Articles\u001b[39m\u001b[38;5;124m'\u001b[39m)\n\u001b[1;32m----> 8\u001b[0m graph10(\u001b[43mg10_df\u001b[49m)\n",
      "\u001b[1;31mNameError\u001b[0m: name 'g10_df' is not defined"
     ]
    }
   ],
   "source": [
    "# graph 10\n",
    "def graph10(g10_df):    \n",
    "    plt.gcf().set_size_inches(14, 8)\n",
    "#     p = sns.catplot(x=\"quarter\", y=\"count\", hue=\"Year\",kind=\"bar\", data=g10_df_new, height=5, aspect=2).set(title='QOQ Analysis of Published Articles')\n",
    "    p = sns.barplot(x=\"quarter\",y=\"count\",hue=\"Year\",data=g10_df_new)\n",
    "    p.set(xlabel = 'Quarter', ylabel = 'Count of articles published', title='QOQ Analysis of Published Articles')\n",
    "    \n",
    "graph10(g10_df)"
   ]
  },
  {
   "cell_type": "markdown",
   "id": "17cf710e",
   "metadata": {},
   "source": [
    "# DASHBOARD"
   ]
  },
  {
   "cell_type": "code",
   "execution_count": 14,
   "id": "b1d71072",
   "metadata": {},
   "outputs": [
    {
     "ename": "ModuleNotFoundError",
     "evalue": "No module named 'patchworklib'",
     "output_type": "error",
     "traceback": [
      "\u001b[1;31m---------------------------------------------------------------------------\u001b[0m",
      "\u001b[1;31mModuleNotFoundError\u001b[0m                       Traceback (most recent call last)",
      "Input \u001b[1;32mIn [14]\u001b[0m, in \u001b[0;36m<cell line: 1>\u001b[1;34m()\u001b[0m\n\u001b[1;32m----> 1\u001b[0m \u001b[38;5;28;01mimport\u001b[39;00m \u001b[38;5;21;01mpatchworklib\u001b[39;00m \u001b[38;5;28;01mas\u001b[39;00m \u001b[38;5;21;01mpw\u001b[39;00m\n",
      "\u001b[1;31mModuleNotFoundError\u001b[0m: No module named 'patchworklib'"
     ]
    }
   ],
   "source": [
    "import patchworklib as pw"
   ]
  },
  {
   "cell_type": "code",
   "execution_count": 15,
   "id": "7d367db4",
   "metadata": {},
   "outputs": [
    {
     "ename": "NameError",
     "evalue": "name 'pw' is not defined",
     "output_type": "error",
     "traceback": [
      "\u001b[1;31m---------------------------------------------------------------------------\u001b[0m",
      "\u001b[1;31mNameError\u001b[0m                                 Traceback (most recent call last)",
      "Input \u001b[1;32mIn [15]\u001b[0m, in \u001b[0;36m<cell line: 1>\u001b[1;34m()\u001b[0m\n\u001b[1;32m----> 1\u001b[0m ax100 \u001b[38;5;241m=\u001b[39m \u001b[43mpw\u001b[49m\u001b[38;5;241m.\u001b[39mBrick(\u001b[38;5;124m\"\u001b[39m\u001b[38;5;124max100\u001b[39m\u001b[38;5;124m\"\u001b[39m,figsize\u001b[38;5;241m=\u001b[39m(\u001b[38;5;241m5\u001b[39m,\u001b[38;5;241m7\u001b[39m))\n\u001b[0;32m      2\u001b[0m sns\u001b[38;5;241m.\u001b[39mbarplot(x\u001b[38;5;241m=\u001b[39m\u001b[38;5;124m'\u001b[39m\u001b[38;5;124mImage\u001b[39m\u001b[38;5;124m'\u001b[39m, y\u001b[38;5;241m=\u001b[39m\u001b[38;5;124m'\u001b[39m\u001b[38;5;124mTotal Claps\u001b[39m\u001b[38;5;124m'\u001b[39m, data\u001b[38;5;241m=\u001b[39mg1_df, palette\u001b[38;5;241m=\u001b[39m\u001b[38;5;124m\"\u001b[39m\u001b[38;5;124mrocket\u001b[39m\u001b[38;5;124m\"\u001b[39m, ax\u001b[38;5;241m=\u001b[39max100)\n\u001b[0;32m      3\u001b[0m ax100\u001b[38;5;241m.\u001b[39mset_title(\u001b[38;5;124m\"\u001b[39m\u001b[38;5;124m'\u001b[39m\u001b[38;5;124mTotal Claps vs Image\u001b[39m\u001b[38;5;124m'\u001b[39m\u001b[38;5;124m\"\u001b[39m)\n",
      "\u001b[1;31mNameError\u001b[0m: name 'pw' is not defined"
     ]
    }
   ],
   "source": [
    "ax100 = pw.Brick(\"ax100\",figsize=(5,7))\n",
    "sns.barplot(x='Image', y='Total Claps', data=g1_df, palette=\"rocket\", ax=ax100)\n",
    "ax100.set_title(\"'Total Claps vs Image'\")"
   ]
  },
  {
   "cell_type": "code",
   "execution_count": 16,
   "id": "ccddd8a6",
   "metadata": {},
   "outputs": [
    {
     "ename": "NameError",
     "evalue": "name 'pw' is not defined",
     "output_type": "error",
     "traceback": [
      "\u001b[1;31m---------------------------------------------------------------------------\u001b[0m",
      "\u001b[1;31mNameError\u001b[0m                                 Traceback (most recent call last)",
      "Input \u001b[1;32mIn [16]\u001b[0m, in \u001b[0;36m<cell line: 1>\u001b[1;34m()\u001b[0m\n\u001b[1;32m----> 1\u001b[0m ax200 \u001b[38;5;241m=\u001b[39m \u001b[43mpw\u001b[49m\u001b[38;5;241m.\u001b[39mBrick(\u001b[38;5;124m\"\u001b[39m\u001b[38;5;124max200\u001b[39m\u001b[38;5;124m\"\u001b[39m,figsize\u001b[38;5;241m=\u001b[39m(\u001b[38;5;241m10\u001b[39m,\u001b[38;5;241m5\u001b[39m))\n\u001b[0;32m      2\u001b[0m sns\u001b[38;5;241m.\u001b[39mbarplot(x\u001b[38;5;241m=\u001b[39m\u001b[38;5;124m'\u001b[39m\u001b[38;5;124mCategory\u001b[39m\u001b[38;5;124m'\u001b[39m, y\u001b[38;5;241m=\u001b[39m\u001b[38;5;124m'\u001b[39m\u001b[38;5;124mAverage number of claps\u001b[39m\u001b[38;5;124m'\u001b[39m, data\u001b[38;5;241m=\u001b[39mg2_df, palette\u001b[38;5;241m=\u001b[39m\u001b[38;5;124m\"\u001b[39m\u001b[38;5;124mrocket\u001b[39m\u001b[38;5;124m\"\u001b[39m, ax\u001b[38;5;241m=\u001b[39max200)\n\u001b[0;32m      3\u001b[0m ax200\u001b[38;5;241m.\u001b[39mset_title(\u001b[38;5;124m\"\u001b[39m\u001b[38;5;124m'\u001b[39m\u001b[38;5;124mAverage number of claps per category\u001b[39m\u001b[38;5;124m'\u001b[39m\u001b[38;5;124m\"\u001b[39m)\n",
      "\u001b[1;31mNameError\u001b[0m: name 'pw' is not defined"
     ]
    }
   ],
   "source": [
    "ax200 = pw.Brick(\"ax200\",figsize=(10,5))\n",
    "sns.barplot(x='Category', y='Average number of claps', data=g2_df, palette=\"rocket\", ax=ax200)\n",
    "ax200.set_title(\"'Average number of claps per category'\")"
   ]
  },
  {
   "cell_type": "code",
   "execution_count": 17,
   "id": "1d46d8df",
   "metadata": {
    "scrolled": true
   },
   "outputs": [
    {
     "ename": "NameError",
     "evalue": "name 'pw' is not defined",
     "output_type": "error",
     "traceback": [
      "\u001b[1;31m---------------------------------------------------------------------------\u001b[0m",
      "\u001b[1;31mNameError\u001b[0m                                 Traceback (most recent call last)",
      "Input \u001b[1;32mIn [17]\u001b[0m, in \u001b[0;36m<cell line: 1>\u001b[1;34m()\u001b[0m\n\u001b[1;32m----> 1\u001b[0m ax300 \u001b[38;5;241m=\u001b[39m \u001b[43mpw\u001b[49m\u001b[38;5;241m.\u001b[39mBrick(\u001b[38;5;124m\"\u001b[39m\u001b[38;5;124max300\u001b[39m\u001b[38;5;124m\"\u001b[39m,figsize\u001b[38;5;241m=\u001b[39m(\u001b[38;5;241m5\u001b[39m,\u001b[38;5;241m7\u001b[39m))\n\u001b[0;32m      2\u001b[0m sns\u001b[38;5;241m.\u001b[39mbarplot(x\u001b[38;5;241m=\u001b[39m\u001b[38;5;124m'\u001b[39m\u001b[38;5;124mYear\u001b[39m\u001b[38;5;124m'\u001b[39m, y\u001b[38;5;241m=\u001b[39m\u001b[38;5;124m'\u001b[39m\u001b[38;5;124mAverage number of claps\u001b[39m\u001b[38;5;124m'\u001b[39m, data\u001b[38;5;241m=\u001b[39mg3_df, palette\u001b[38;5;241m=\u001b[39m\u001b[38;5;124m\"\u001b[39m\u001b[38;5;124mrocket\u001b[39m\u001b[38;5;124m\"\u001b[39m, ax\u001b[38;5;241m=\u001b[39max300)\n\u001b[0;32m      3\u001b[0m ax300\u001b[38;5;241m.\u001b[39mset_title(\u001b[38;5;124m\"\u001b[39m\u001b[38;5;124m'\u001b[39m\u001b[38;5;124mAverage number of claps per Year\u001b[39m\u001b[38;5;124m'\u001b[39m\u001b[38;5;124m\"\u001b[39m)\n",
      "\u001b[1;31mNameError\u001b[0m: name 'pw' is not defined"
     ]
    }
   ],
   "source": [
    "ax300 = pw.Brick(\"ax300\",figsize=(5,7))\n",
    "sns.barplot(x='Year', y='Average number of claps', data=g3_df, palette=\"rocket\", ax=ax300)\n",
    "ax300.set_title(\"'Average number of claps per Year'\")"
   ]
  },
  {
   "cell_type": "code",
   "execution_count": 18,
   "id": "bcccaec9",
   "metadata": {},
   "outputs": [
    {
     "ename": "NameError",
     "evalue": "name 'pw' is not defined",
     "output_type": "error",
     "traceback": [
      "\u001b[1;31m---------------------------------------------------------------------------\u001b[0m",
      "\u001b[1;31mNameError\u001b[0m                                 Traceback (most recent call last)",
      "Input \u001b[1;32mIn [18]\u001b[0m, in \u001b[0;36m<cell line: 1>\u001b[1;34m()\u001b[0m\n\u001b[1;32m----> 1\u001b[0m ax400 \u001b[38;5;241m=\u001b[39m \u001b[43mpw\u001b[49m\u001b[38;5;241m.\u001b[39mBrick(\u001b[38;5;124m\"\u001b[39m\u001b[38;5;124max400\u001b[39m\u001b[38;5;124m\"\u001b[39m,figsize\u001b[38;5;241m=\u001b[39m(\u001b[38;5;241m10\u001b[39m,\u001b[38;5;241m5\u001b[39m))\n\u001b[0;32m      2\u001b[0m sns\u001b[38;5;241m.\u001b[39mbarplot(x\u001b[38;5;241m=\u001b[39m\u001b[38;5;124m'\u001b[39m\u001b[38;5;124mPublication Name\u001b[39m\u001b[38;5;124m'\u001b[39m, y\u001b[38;5;241m=\u001b[39m\u001b[38;5;124m'\u001b[39m\u001b[38;5;124mAverage number of claps\u001b[39m\u001b[38;5;124m'\u001b[39m, data\u001b[38;5;241m=\u001b[39mg4_df, palette\u001b[38;5;241m=\u001b[39m\u001b[38;5;124m\"\u001b[39m\u001b[38;5;124mrocket\u001b[39m\u001b[38;5;124m\"\u001b[39m, ax\u001b[38;5;241m=\u001b[39max400)\n\u001b[0;32m      3\u001b[0m ax400\u001b[38;5;241m.\u001b[39mset_title(\u001b[38;5;124m\"\u001b[39m\u001b[38;5;124m'\u001b[39m\u001b[38;5;124mAverage number of claps per Publication\u001b[39m\u001b[38;5;124m'\u001b[39m\u001b[38;5;124m\"\u001b[39m)\n",
      "\u001b[1;31mNameError\u001b[0m: name 'pw' is not defined"
     ]
    }
   ],
   "source": [
    "ax400 = pw.Brick(\"ax400\",figsize=(10,5))\n",
    "sns.barplot(x='Publication Name', y='Average number of claps', data=g4_df, palette=\"rocket\", ax=ax400)\n",
    "ax400.set_title(\"'Average number of claps per Publication'\")"
   ]
  },
  {
   "cell_type": "code",
   "execution_count": 19,
   "id": "946dceaa",
   "metadata": {},
   "outputs": [
    {
     "ename": "NameError",
     "evalue": "name 'pw' is not defined",
     "output_type": "error",
     "traceback": [
      "\u001b[1;31m---------------------------------------------------------------------------\u001b[0m",
      "\u001b[1;31mNameError\u001b[0m                                 Traceback (most recent call last)",
      "Input \u001b[1;32mIn [19]\u001b[0m, in \u001b[0;36m<cell line: 1>\u001b[1;34m()\u001b[0m\n\u001b[1;32m----> 1\u001b[0m ax500 \u001b[38;5;241m=\u001b[39m \u001b[43mpw\u001b[49m\u001b[38;5;241m.\u001b[39mBrick(\u001b[38;5;124m\"\u001b[39m\u001b[38;5;124max500\u001b[39m\u001b[38;5;124m\"\u001b[39m,figsize\u001b[38;5;241m=\u001b[39m(\u001b[38;5;241m10\u001b[39m,\u001b[38;5;241m5\u001b[39m))\n\u001b[0;32m      2\u001b[0m sns\u001b[38;5;241m.\u001b[39mbarplot(x\u001b[38;5;241m=\u001b[39m\u001b[38;5;124m'\u001b[39m\u001b[38;5;124mAuthor Name\u001b[39m\u001b[38;5;124m'\u001b[39m, y\u001b[38;5;241m=\u001b[39m\u001b[38;5;124m'\u001b[39m\u001b[38;5;124mTotal number of claps\u001b[39m\u001b[38;5;124m'\u001b[39m, data\u001b[38;5;241m=\u001b[39mg5_df, palette\u001b[38;5;241m=\u001b[39m\u001b[38;5;124m\"\u001b[39m\u001b[38;5;124mrocket\u001b[39m\u001b[38;5;124m\"\u001b[39m, ax\u001b[38;5;241m=\u001b[39max500)\n\u001b[0;32m      3\u001b[0m ax500\u001b[38;5;241m.\u001b[39mset_title(\u001b[38;5;124m\"\u001b[39m\u001b[38;5;124m'\u001b[39m\u001b[38;5;124mTotal number of claps vs Author\u001b[39m\u001b[38;5;124m'\u001b[39m\u001b[38;5;124m\"\u001b[39m)\n",
      "\u001b[1;31mNameError\u001b[0m: name 'pw' is not defined"
     ]
    }
   ],
   "source": [
    "ax500 = pw.Brick(\"ax500\",figsize=(10,5))\n",
    "sns.barplot(x='Author Name', y='Total number of claps', data=g5_df, palette=\"rocket\", ax=ax500)\n",
    "ax500.set_title(\"'Total number of claps vs Author'\")"
   ]
  },
  {
   "cell_type": "code",
   "execution_count": 20,
   "id": "7e13e3db",
   "metadata": {},
   "outputs": [
    {
     "ename": "NameError",
     "evalue": "name 'pw' is not defined",
     "output_type": "error",
     "traceback": [
      "\u001b[1;31m---------------------------------------------------------------------------\u001b[0m",
      "\u001b[1;31mNameError\u001b[0m                                 Traceback (most recent call last)",
      "Input \u001b[1;32mIn [20]\u001b[0m, in \u001b[0;36m<cell line: 1>\u001b[1;34m()\u001b[0m\n\u001b[1;32m----> 1\u001b[0m ax600 \u001b[38;5;241m=\u001b[39m \u001b[43mpw\u001b[49m\u001b[38;5;241m.\u001b[39mBrick(\u001b[38;5;124m\"\u001b[39m\u001b[38;5;124max600\u001b[39m\u001b[38;5;124m\"\u001b[39m,figsize\u001b[38;5;241m=\u001b[39m(\u001b[38;5;241m10\u001b[39m,\u001b[38;5;241m5\u001b[39m))\n\u001b[0;32m      2\u001b[0m g6_df\u001b[38;5;241m.\u001b[39mplot\u001b[38;5;241m.\u001b[39mbar(x\u001b[38;5;241m=\u001b[39m\u001b[38;5;124m'\u001b[39m\u001b[38;5;124mCategory Name\u001b[39m\u001b[38;5;124m'\u001b[39m, y\u001b[38;5;241m=\u001b[39m\u001b[38;5;124m'\u001b[39m\u001b[38;5;124mTotal number of authors associated\u001b[39m\u001b[38;5;124m'\u001b[39m, \n\u001b[0;32m      3\u001b[0m                     title\u001b[38;5;241m=\u001b[39m\u001b[38;5;124m'\u001b[39m\u001b[38;5;124mTotal number of authors associated vs Category\u001b[39m\u001b[38;5;124m'\u001b[39m,\n\u001b[0;32m      4\u001b[0m                     color\u001b[38;5;241m=\u001b[39m\u001b[38;5;124m'\u001b[39m\u001b[38;5;124m#009999\u001b[39m\u001b[38;5;124m'\u001b[39m, ax\u001b[38;5;241m=\u001b[39max600)\n\u001b[0;32m      5\u001b[0m ax600\u001b[38;5;241m.\u001b[39mset_title(\u001b[38;5;124m\"\u001b[39m\u001b[38;5;124m'\u001b[39m\u001b[38;5;124mTotal number of authors associated vs Category\u001b[39m\u001b[38;5;124m'\u001b[39m\u001b[38;5;124m\"\u001b[39m)\n",
      "\u001b[1;31mNameError\u001b[0m: name 'pw' is not defined"
     ]
    }
   ],
   "source": [
    "ax600 = pw.Brick(\"ax600\",figsize=(10,5))\n",
    "g6_df.plot.bar(x='Category Name', y='Total number of authors associated', \n",
    "                    title='Total number of authors associated vs Category',\n",
    "                    color='#009999', ax=ax600)\n",
    "ax600.set_title(\"'Total number of authors associated vs Category'\")"
   ]
  },
  {
   "cell_type": "code",
   "execution_count": 21,
   "id": "04e00f56",
   "metadata": {},
   "outputs": [
    {
     "ename": "NameError",
     "evalue": "name 'pw' is not defined",
     "output_type": "error",
     "traceback": [
      "\u001b[1;31m---------------------------------------------------------------------------\u001b[0m",
      "\u001b[1;31mNameError\u001b[0m                                 Traceback (most recent call last)",
      "Input \u001b[1;32mIn [21]\u001b[0m, in \u001b[0;36m<cell line: 1>\u001b[1;34m()\u001b[0m\n\u001b[1;32m----> 1\u001b[0m ax700 \u001b[38;5;241m=\u001b[39m \u001b[43mpw\u001b[49m\u001b[38;5;241m.\u001b[39mBrick(\u001b[38;5;124m\"\u001b[39m\u001b[38;5;124max700\u001b[39m\u001b[38;5;124m\"\u001b[39m,figsize\u001b[38;5;241m=\u001b[39m(\u001b[38;5;241m10\u001b[39m,\u001b[38;5;241m5\u001b[39m))\n\u001b[0;32m      2\u001b[0m ax700\u001b[38;5;241m.\u001b[39mpie(g7_df[\u001b[38;5;124m'\u001b[39m\u001b[38;5;124mCount of articles\u001b[39m\u001b[38;5;124m'\u001b[39m], colors\u001b[38;5;241m=\u001b[39mcolors, labels\u001b[38;5;241m=\u001b[39mg7_df[\u001b[38;5;124m'\u001b[39m\u001b[38;5;124mPublications\u001b[39m\u001b[38;5;124m'\u001b[39m], autopct\u001b[38;5;241m=\u001b[39m\u001b[38;5;124m'\u001b[39m\u001b[38;5;132;01m%1.1f\u001b[39;00m\u001b[38;5;132;01m%%\u001b[39;00m\u001b[38;5;124m'\u001b[39m, pctdistance\u001b[38;5;241m=\u001b[39m\u001b[38;5;241m0.85\u001b[39m, \n\u001b[0;32m      3\u001b[0m         explode\u001b[38;5;241m=\u001b[39mexplode)\n\u001b[0;32m      4\u001b[0m ax700\u001b[38;5;241m.\u001b[39mset_title(\u001b[38;5;124m\"\u001b[39m\u001b[38;5;124m'\u001b[39m\u001b[38;5;124mTotal number of articles by publication\u001b[39m\u001b[38;5;124m'\u001b[39m\u001b[38;5;124m\"\u001b[39m)\n",
      "\u001b[1;31mNameError\u001b[0m: name 'pw' is not defined"
     ]
    }
   ],
   "source": [
    "ax700 = pw.Brick(\"ax700\",figsize=(10,5))\n",
    "ax700.pie(g7_df['Count of articles'], colors=colors, labels=g7_df['Publications'], autopct='%1.1f%%', pctdistance=0.85, \n",
    "        explode=explode)\n",
    "ax700.set_title(\"'Total number of articles by publication'\")"
   ]
  },
  {
   "cell_type": "code",
   "execution_count": 22,
   "id": "286a37be",
   "metadata": {},
   "outputs": [
    {
     "ename": "NameError",
     "evalue": "name 'pw' is not defined",
     "output_type": "error",
     "traceback": [
      "\u001b[1;31m---------------------------------------------------------------------------\u001b[0m",
      "\u001b[1;31mNameError\u001b[0m                                 Traceback (most recent call last)",
      "Input \u001b[1;32mIn [22]\u001b[0m, in \u001b[0;36m<cell line: 1>\u001b[1;34m()\u001b[0m\n\u001b[1;32m----> 1\u001b[0m ax800 \u001b[38;5;241m=\u001b[39m \u001b[43mpw\u001b[49m\u001b[38;5;241m.\u001b[39mBrick(\u001b[38;5;124m\"\u001b[39m\u001b[38;5;124max800\u001b[39m\u001b[38;5;124m\"\u001b[39m,figsize\u001b[38;5;241m=\u001b[39m(\u001b[38;5;241m10\u001b[39m,\u001b[38;5;241m5\u001b[39m))\n\u001b[0;32m      2\u001b[0m sns\u001b[38;5;241m.\u001b[39mheatmap(rest_data, cmap\u001b[38;5;241m=\u001b[39m\u001b[38;5;124m\"\u001b[39m\u001b[38;5;124mGreens\u001b[39m\u001b[38;5;124m\"\u001b[39m, linewidths\u001b[38;5;241m=\u001b[39m\u001b[38;5;241m.5\u001b[39m, ax\u001b[38;5;241m=\u001b[39max800)\n\u001b[0;32m      3\u001b[0m ax800\u001b[38;5;241m.\u001b[39mset_title(\u001b[38;5;124m\"\u001b[39m\u001b[38;5;124m'\u001b[39m\u001b[38;5;124mWhen were the blogs posted?\u001b[39m\u001b[38;5;124m'\u001b[39m\u001b[38;5;124m\"\u001b[39m)\n",
      "\u001b[1;31mNameError\u001b[0m: name 'pw' is not defined"
     ]
    }
   ],
   "source": [
    "ax800 = pw.Brick(\"ax800\",figsize=(10,5))\n",
    "sns.heatmap(rest_data, cmap=\"Greens\", linewidths=.5, ax=ax800)\n",
    "ax800.set_title(\"'When were the blogs posted?'\")"
   ]
  },
  {
   "cell_type": "code",
   "execution_count": 23,
   "id": "45404d7e",
   "metadata": {},
   "outputs": [
    {
     "ename": "NameError",
     "evalue": "name 'pw' is not defined",
     "output_type": "error",
     "traceback": [
      "\u001b[1;31m---------------------------------------------------------------------------\u001b[0m",
      "\u001b[1;31mNameError\u001b[0m                                 Traceback (most recent call last)",
      "Input \u001b[1;32mIn [23]\u001b[0m, in \u001b[0;36m<cell line: 1>\u001b[1;34m()\u001b[0m\n\u001b[1;32m----> 1\u001b[0m ax900 \u001b[38;5;241m=\u001b[39m \u001b[43mpw\u001b[49m\u001b[38;5;241m.\u001b[39mBrick(\u001b[38;5;124m\"\u001b[39m\u001b[38;5;124max900\u001b[39m\u001b[38;5;124m\"\u001b[39m,figsize\u001b[38;5;241m=\u001b[39m(\u001b[38;5;241m10\u001b[39m,\u001b[38;5;241m5\u001b[39m))\n\u001b[0;32m      2\u001b[0m sns\u001b[38;5;241m.\u001b[39mscatterplot(x\u001b[38;5;241m=\u001b[39mg9_df\u001b[38;5;241m.\u001b[39mreading_time_in_minutes,y\u001b[38;5;241m=\u001b[39mg9_df\u001b[38;5;241m.\u001b[39mclaps_count, ax\u001b[38;5;241m=\u001b[39max900)\n\u001b[0;32m      3\u001b[0m ax900\u001b[38;5;241m.\u001b[39mset_title(\u001b[38;5;124m\"\u001b[39m\u001b[38;5;124m'\u001b[39m\u001b[38;5;124mNumber of Claps vs Reading time of the article\u001b[39m\u001b[38;5;124m'\u001b[39m\u001b[38;5;124m\"\u001b[39m)\n",
      "\u001b[1;31mNameError\u001b[0m: name 'pw' is not defined"
     ]
    }
   ],
   "source": [
    "ax900 = pw.Brick(\"ax900\",figsize=(10,5))\n",
    "sns.scatterplot(x=g9_df.reading_time_in_minutes,y=g9_df.claps_count, ax=ax900)\n",
    "ax900.set_title(\"'Number of Claps vs Reading time of the article'\")"
   ]
  },
  {
   "cell_type": "code",
   "execution_count": 24,
   "id": "b61cc325",
   "metadata": {
    "scrolled": true
   },
   "outputs": [
    {
     "ename": "NameError",
     "evalue": "name 'pw' is not defined",
     "output_type": "error",
     "traceback": [
      "\u001b[1;31m---------------------------------------------------------------------------\u001b[0m",
      "\u001b[1;31mNameError\u001b[0m                                 Traceback (most recent call last)",
      "Input \u001b[1;32mIn [24]\u001b[0m, in \u001b[0;36m<cell line: 1>\u001b[1;34m()\u001b[0m\n\u001b[1;32m----> 1\u001b[0m ax1000 \u001b[38;5;241m=\u001b[39m \u001b[43mpw\u001b[49m\u001b[38;5;241m.\u001b[39mBrick(\u001b[38;5;124m\"\u001b[39m\u001b[38;5;124max1000\u001b[39m\u001b[38;5;124m\"\u001b[39m,figsize\u001b[38;5;241m=\u001b[39m(\u001b[38;5;241m10\u001b[39m,\u001b[38;5;241m5\u001b[39m))\n\u001b[0;32m      2\u001b[0m sns\u001b[38;5;241m.\u001b[39mbarplot(x\u001b[38;5;241m=\u001b[39m\u001b[38;5;124m\"\u001b[39m\u001b[38;5;124mquarter\u001b[39m\u001b[38;5;124m\"\u001b[39m,y\u001b[38;5;241m=\u001b[39m\u001b[38;5;124m\"\u001b[39m\u001b[38;5;124mcount\u001b[39m\u001b[38;5;124m\"\u001b[39m,hue\u001b[38;5;241m=\u001b[39m\u001b[38;5;124m\"\u001b[39m\u001b[38;5;124mYear\u001b[39m\u001b[38;5;124m\"\u001b[39m,data\u001b[38;5;241m=\u001b[39mg10_df_new, ax\u001b[38;5;241m=\u001b[39max1000)\n\u001b[0;32m      3\u001b[0m ax1000\u001b[38;5;241m.\u001b[39mset_title(\u001b[38;5;124m\"\u001b[39m\u001b[38;5;124m'\u001b[39m\u001b[38;5;124mQOQ Analysis of Published Articles\u001b[39m\u001b[38;5;124m'\u001b[39m\u001b[38;5;124m\"\u001b[39m)\n",
      "\u001b[1;31mNameError\u001b[0m: name 'pw' is not defined"
     ]
    }
   ],
   "source": [
    "ax1000 = pw.Brick(\"ax1000\",figsize=(10,5))\n",
    "sns.barplot(x=\"quarter\",y=\"count\",hue=\"Year\",data=g10_df_new, ax=ax1000)\n",
    "ax1000.set_title(\"'QOQ Analysis of Published Articles'\")"
   ]
  },
  {
   "cell_type": "code",
   "execution_count": 25,
   "id": "8cb72de8",
   "metadata": {},
   "outputs": [
    {
     "ename": "NameError",
     "evalue": "name 'ax100' is not defined",
     "output_type": "error",
     "traceback": [
      "\u001b[1;31m---------------------------------------------------------------------------\u001b[0m",
      "\u001b[1;31mNameError\u001b[0m                                 Traceback (most recent call last)",
      "Input \u001b[1;32mIn [25]\u001b[0m, in \u001b[0;36m<cell line: 1>\u001b[1;34m()\u001b[0m\n\u001b[1;32m----> 1\u001b[0m ax_f \u001b[38;5;241m=\u001b[39m (\u001b[43max100\u001b[49m \u001b[38;5;241m|\u001b[39m ax200) \u001b[38;5;241m/\u001b[39m (ax300 \u001b[38;5;241m|\u001b[39m ax400) \u001b[38;5;241m/\u001b[39m (ax500 \u001b[38;5;241m|\u001b[39m ax600) \u001b[38;5;241m/\u001b[39m (ax700 \u001b[38;5;241m|\u001b[39m ax800) \u001b[38;5;241m/\u001b[39m (ax900 \u001b[38;5;241m|\u001b[39m ax1000)\n\u001b[0;32m      2\u001b[0m ax_f\u001b[38;5;241m.\u001b[39msavefig()\n",
      "\u001b[1;31mNameError\u001b[0m: name 'ax100' is not defined"
     ]
    }
   ],
   "source": [
    "ax_f = (ax100 | ax200) / (ax300 | ax400) / (ax500 | ax600) / (ax700 | ax800) / (ax900 | ax1000)\n",
    "ax_f.savefig()"
   ]
  },
  {
   "cell_type": "code",
   "execution_count": null,
   "id": "ef178217",
   "metadata": {},
   "outputs": [],
   "source": []
  },
  {
   "cell_type": "code",
   "execution_count": null,
   "id": "0a6ddc53",
   "metadata": {},
   "outputs": [],
   "source": []
  },
  {
   "cell_type": "code",
   "execution_count": null,
   "id": "e4171814",
   "metadata": {},
   "outputs": [],
   "source": []
  }
 ],
 "metadata": {
  "kernelspec": {
   "display_name": "Python 3 (ipykernel)",
   "language": "python",
   "name": "python3"
  },
  "language_info": {
   "codemirror_mode": {
    "name": "ipython",
    "version": 3
   },
   "file_extension": ".py",
   "mimetype": "text/x-python",
   "name": "python",
   "nbconvert_exporter": "python",
   "pygments_lexer": "ipython3",
   "version": "3.9.12"
  }
 },
 "nbformat": 4,
 "nbformat_minor": 5
}
